{
 "cells": [
  {
   "cell_type": "code",
   "execution_count": 1,
   "metadata": {},
   "outputs": [
    {
     "data": {
      "application/vnd.plotly.v1+json": {
       "config": {
        "plotlyServerURL": "https://plot.ly"
       },
       "data": [
        {
         "alignmentgroup": "True",
         "hovertemplate": "brand=%{x}<br>count=%{y}<extra></extra>",
         "legendgroup": "",
         "marker": {
          "color": "#636efa",
          "pattern": {
           "shape": ""
          }
         },
         "name": "",
         "offsetgroup": "",
         "orientation": "v",
         "showlegend": false,
         "textposition": "auto",
         "type": "bar",
         "x": [
          "samsung",
          "apple",
          "xiaomi",
          "huawei",
          "artel"
         ],
         "xaxis": "x",
         "y": [
          392,
          297,
          106,
          60,
          18
         ],
         "yaxis": "y"
        }
       ],
       "layout": {
        "barmode": "relative",
        "legend": {
         "tracegroupgap": 0
        },
        "template": {
         "data": {
          "bar": [
           {
            "error_x": {
             "color": "#2a3f5f"
            },
            "error_y": {
             "color": "#2a3f5f"
            },
            "marker": {
             "line": {
              "color": "#E5ECF6",
              "width": 0.5
             },
             "pattern": {
              "fillmode": "overlay",
              "size": 10,
              "solidity": 0.2
             }
            },
            "type": "bar"
           }
          ],
          "barpolar": [
           {
            "marker": {
             "line": {
              "color": "#E5ECF6",
              "width": 0.5
             },
             "pattern": {
              "fillmode": "overlay",
              "size": 10,
              "solidity": 0.2
             }
            },
            "type": "barpolar"
           }
          ],
          "carpet": [
           {
            "aaxis": {
             "endlinecolor": "#2a3f5f",
             "gridcolor": "white",
             "linecolor": "white",
             "minorgridcolor": "white",
             "startlinecolor": "#2a3f5f"
            },
            "baxis": {
             "endlinecolor": "#2a3f5f",
             "gridcolor": "white",
             "linecolor": "white",
             "minorgridcolor": "white",
             "startlinecolor": "#2a3f5f"
            },
            "type": "carpet"
           }
          ],
          "choropleth": [
           {
            "colorbar": {
             "outlinewidth": 0,
             "ticks": ""
            },
            "type": "choropleth"
           }
          ],
          "contour": [
           {
            "colorbar": {
             "outlinewidth": 0,
             "ticks": ""
            },
            "colorscale": [
             [
              0,
              "#0d0887"
             ],
             [
              0.1111111111111111,
              "#46039f"
             ],
             [
              0.2222222222222222,
              "#7201a8"
             ],
             [
              0.3333333333333333,
              "#9c179e"
             ],
             [
              0.4444444444444444,
              "#bd3786"
             ],
             [
              0.5555555555555556,
              "#d8576b"
             ],
             [
              0.6666666666666666,
              "#ed7953"
             ],
             [
              0.7777777777777778,
              "#fb9f3a"
             ],
             [
              0.8888888888888888,
              "#fdca26"
             ],
             [
              1,
              "#f0f921"
             ]
            ],
            "type": "contour"
           }
          ],
          "contourcarpet": [
           {
            "colorbar": {
             "outlinewidth": 0,
             "ticks": ""
            },
            "type": "contourcarpet"
           }
          ],
          "heatmap": [
           {
            "colorbar": {
             "outlinewidth": 0,
             "ticks": ""
            },
            "colorscale": [
             [
              0,
              "#0d0887"
             ],
             [
              0.1111111111111111,
              "#46039f"
             ],
             [
              0.2222222222222222,
              "#7201a8"
             ],
             [
              0.3333333333333333,
              "#9c179e"
             ],
             [
              0.4444444444444444,
              "#bd3786"
             ],
             [
              0.5555555555555556,
              "#d8576b"
             ],
             [
              0.6666666666666666,
              "#ed7953"
             ],
             [
              0.7777777777777778,
              "#fb9f3a"
             ],
             [
              0.8888888888888888,
              "#fdca26"
             ],
             [
              1,
              "#f0f921"
             ]
            ],
            "type": "heatmap"
           }
          ],
          "heatmapgl": [
           {
            "colorbar": {
             "outlinewidth": 0,
             "ticks": ""
            },
            "colorscale": [
             [
              0,
              "#0d0887"
             ],
             [
              0.1111111111111111,
              "#46039f"
             ],
             [
              0.2222222222222222,
              "#7201a8"
             ],
             [
              0.3333333333333333,
              "#9c179e"
             ],
             [
              0.4444444444444444,
              "#bd3786"
             ],
             [
              0.5555555555555556,
              "#d8576b"
             ],
             [
              0.6666666666666666,
              "#ed7953"
             ],
             [
              0.7777777777777778,
              "#fb9f3a"
             ],
             [
              0.8888888888888888,
              "#fdca26"
             ],
             [
              1,
              "#f0f921"
             ]
            ],
            "type": "heatmapgl"
           }
          ],
          "histogram": [
           {
            "marker": {
             "pattern": {
              "fillmode": "overlay",
              "size": 10,
              "solidity": 0.2
             }
            },
            "type": "histogram"
           }
          ],
          "histogram2d": [
           {
            "colorbar": {
             "outlinewidth": 0,
             "ticks": ""
            },
            "colorscale": [
             [
              0,
              "#0d0887"
             ],
             [
              0.1111111111111111,
              "#46039f"
             ],
             [
              0.2222222222222222,
              "#7201a8"
             ],
             [
              0.3333333333333333,
              "#9c179e"
             ],
             [
              0.4444444444444444,
              "#bd3786"
             ],
             [
              0.5555555555555556,
              "#d8576b"
             ],
             [
              0.6666666666666666,
              "#ed7953"
             ],
             [
              0.7777777777777778,
              "#fb9f3a"
             ],
             [
              0.8888888888888888,
              "#fdca26"
             ],
             [
              1,
              "#f0f921"
             ]
            ],
            "type": "histogram2d"
           }
          ],
          "histogram2dcontour": [
           {
            "colorbar": {
             "outlinewidth": 0,
             "ticks": ""
            },
            "colorscale": [
             [
              0,
              "#0d0887"
             ],
             [
              0.1111111111111111,
              "#46039f"
             ],
             [
              0.2222222222222222,
              "#7201a8"
             ],
             [
              0.3333333333333333,
              "#9c179e"
             ],
             [
              0.4444444444444444,
              "#bd3786"
             ],
             [
              0.5555555555555556,
              "#d8576b"
             ],
             [
              0.6666666666666666,
              "#ed7953"
             ],
             [
              0.7777777777777778,
              "#fb9f3a"
             ],
             [
              0.8888888888888888,
              "#fdca26"
             ],
             [
              1,
              "#f0f921"
             ]
            ],
            "type": "histogram2dcontour"
           }
          ],
          "mesh3d": [
           {
            "colorbar": {
             "outlinewidth": 0,
             "ticks": ""
            },
            "type": "mesh3d"
           }
          ],
          "parcoords": [
           {
            "line": {
             "colorbar": {
              "outlinewidth": 0,
              "ticks": ""
             }
            },
            "type": "parcoords"
           }
          ],
          "pie": [
           {
            "automargin": true,
            "type": "pie"
           }
          ],
          "scatter": [
           {
            "fillpattern": {
             "fillmode": "overlay",
             "size": 10,
             "solidity": 0.2
            },
            "type": "scatter"
           }
          ],
          "scatter3d": [
           {
            "line": {
             "colorbar": {
              "outlinewidth": 0,
              "ticks": ""
             }
            },
            "marker": {
             "colorbar": {
              "outlinewidth": 0,
              "ticks": ""
             }
            },
            "type": "scatter3d"
           }
          ],
          "scattercarpet": [
           {
            "marker": {
             "colorbar": {
              "outlinewidth": 0,
              "ticks": ""
             }
            },
            "type": "scattercarpet"
           }
          ],
          "scattergeo": [
           {
            "marker": {
             "colorbar": {
              "outlinewidth": 0,
              "ticks": ""
             }
            },
            "type": "scattergeo"
           }
          ],
          "scattergl": [
           {
            "marker": {
             "colorbar": {
              "outlinewidth": 0,
              "ticks": ""
             }
            },
            "type": "scattergl"
           }
          ],
          "scattermapbox": [
           {
            "marker": {
             "colorbar": {
              "outlinewidth": 0,
              "ticks": ""
             }
            },
            "type": "scattermapbox"
           }
          ],
          "scatterpolar": [
           {
            "marker": {
             "colorbar": {
              "outlinewidth": 0,
              "ticks": ""
             }
            },
            "type": "scatterpolar"
           }
          ],
          "scatterpolargl": [
           {
            "marker": {
             "colorbar": {
              "outlinewidth": 0,
              "ticks": ""
             }
            },
            "type": "scatterpolargl"
           }
          ],
          "scatterternary": [
           {
            "marker": {
             "colorbar": {
              "outlinewidth": 0,
              "ticks": ""
             }
            },
            "type": "scatterternary"
           }
          ],
          "surface": [
           {
            "colorbar": {
             "outlinewidth": 0,
             "ticks": ""
            },
            "colorscale": [
             [
              0,
              "#0d0887"
             ],
             [
              0.1111111111111111,
              "#46039f"
             ],
             [
              0.2222222222222222,
              "#7201a8"
             ],
             [
              0.3333333333333333,
              "#9c179e"
             ],
             [
              0.4444444444444444,
              "#bd3786"
             ],
             [
              0.5555555555555556,
              "#d8576b"
             ],
             [
              0.6666666666666666,
              "#ed7953"
             ],
             [
              0.7777777777777778,
              "#fb9f3a"
             ],
             [
              0.8888888888888888,
              "#fdca26"
             ],
             [
              1,
              "#f0f921"
             ]
            ],
            "type": "surface"
           }
          ],
          "table": [
           {
            "cells": {
             "fill": {
              "color": "#EBF0F8"
             },
             "line": {
              "color": "white"
             }
            },
            "header": {
             "fill": {
              "color": "#C8D4E3"
             },
             "line": {
              "color": "white"
             }
            },
            "type": "table"
           }
          ]
         },
         "layout": {
          "annotationdefaults": {
           "arrowcolor": "#2a3f5f",
           "arrowhead": 0,
           "arrowwidth": 1
          },
          "autotypenumbers": "strict",
          "coloraxis": {
           "colorbar": {
            "outlinewidth": 0,
            "ticks": ""
           }
          },
          "colorscale": {
           "diverging": [
            [
             0,
             "#8e0152"
            ],
            [
             0.1,
             "#c51b7d"
            ],
            [
             0.2,
             "#de77ae"
            ],
            [
             0.3,
             "#f1b6da"
            ],
            [
             0.4,
             "#fde0ef"
            ],
            [
             0.5,
             "#f7f7f7"
            ],
            [
             0.6,
             "#e6f5d0"
            ],
            [
             0.7,
             "#b8e186"
            ],
            [
             0.8,
             "#7fbc41"
            ],
            [
             0.9,
             "#4d9221"
            ],
            [
             1,
             "#276419"
            ]
           ],
           "sequential": [
            [
             0,
             "#0d0887"
            ],
            [
             0.1111111111111111,
             "#46039f"
            ],
            [
             0.2222222222222222,
             "#7201a8"
            ],
            [
             0.3333333333333333,
             "#9c179e"
            ],
            [
             0.4444444444444444,
             "#bd3786"
            ],
            [
             0.5555555555555556,
             "#d8576b"
            ],
            [
             0.6666666666666666,
             "#ed7953"
            ],
            [
             0.7777777777777778,
             "#fb9f3a"
            ],
            [
             0.8888888888888888,
             "#fdca26"
            ],
            [
             1,
             "#f0f921"
            ]
           ],
           "sequentialminus": [
            [
             0,
             "#0d0887"
            ],
            [
             0.1111111111111111,
             "#46039f"
            ],
            [
             0.2222222222222222,
             "#7201a8"
            ],
            [
             0.3333333333333333,
             "#9c179e"
            ],
            [
             0.4444444444444444,
             "#bd3786"
            ],
            [
             0.5555555555555556,
             "#d8576b"
            ],
            [
             0.6666666666666666,
             "#ed7953"
            ],
            [
             0.7777777777777778,
             "#fb9f3a"
            ],
            [
             0.8888888888888888,
             "#fdca26"
            ],
            [
             1,
             "#f0f921"
            ]
           ]
          },
          "colorway": [
           "#636efa",
           "#EF553B",
           "#00cc96",
           "#ab63fa",
           "#FFA15A",
           "#19d3f3",
           "#FF6692",
           "#B6E880",
           "#FF97FF",
           "#FECB52"
          ],
          "font": {
           "color": "#2a3f5f"
          },
          "geo": {
           "bgcolor": "white",
           "lakecolor": "white",
           "landcolor": "#E5ECF6",
           "showlakes": true,
           "showland": true,
           "subunitcolor": "white"
          },
          "hoverlabel": {
           "align": "left"
          },
          "hovermode": "closest",
          "mapbox": {
           "style": "light"
          },
          "paper_bgcolor": "white",
          "plot_bgcolor": "#E5ECF6",
          "polar": {
           "angularaxis": {
            "gridcolor": "white",
            "linecolor": "white",
            "ticks": ""
           },
           "bgcolor": "#E5ECF6",
           "radialaxis": {
            "gridcolor": "white",
            "linecolor": "white",
            "ticks": ""
           }
          },
          "scene": {
           "xaxis": {
            "backgroundcolor": "#E5ECF6",
            "gridcolor": "white",
            "gridwidth": 2,
            "linecolor": "white",
            "showbackground": true,
            "ticks": "",
            "zerolinecolor": "white"
           },
           "yaxis": {
            "backgroundcolor": "#E5ECF6",
            "gridcolor": "white",
            "gridwidth": 2,
            "linecolor": "white",
            "showbackground": true,
            "ticks": "",
            "zerolinecolor": "white"
           },
           "zaxis": {
            "backgroundcolor": "#E5ECF6",
            "gridcolor": "white",
            "gridwidth": 2,
            "linecolor": "white",
            "showbackground": true,
            "ticks": "",
            "zerolinecolor": "white"
           }
          },
          "shapedefaults": {
           "line": {
            "color": "#2a3f5f"
           }
          },
          "ternary": {
           "aaxis": {
            "gridcolor": "white",
            "linecolor": "white",
            "ticks": ""
           },
           "baxis": {
            "gridcolor": "white",
            "linecolor": "white",
            "ticks": ""
           },
           "bgcolor": "#E5ECF6",
           "caxis": {
            "gridcolor": "white",
            "linecolor": "white",
            "ticks": ""
           }
          },
          "title": {
           "x": 0.05
          },
          "xaxis": {
           "automargin": true,
           "gridcolor": "white",
           "linecolor": "white",
           "ticks": "",
           "title": {
            "standoff": 15
           },
           "zerolinecolor": "white",
           "zerolinewidth": 2
          },
          "yaxis": {
           "automargin": true,
           "gridcolor": "white",
           "linecolor": "white",
           "ticks": "",
           "title": {
            "standoff": 15
           },
           "zerolinecolor": "white",
           "zerolinewidth": 2
          }
         }
        },
        "title": {
         "text": "Top brands"
        },
        "xaxis": {
         "anchor": "y",
         "domain": [
          0,
          1
         ],
         "title": {
          "text": "brand"
         }
        },
        "yaxis": {
         "anchor": "x",
         "domain": [
          0,
          1
         ],
         "title": {
          "text": "count"
         }
        }
       }
      }
     },
     "metadata": {},
     "output_type": "display_data"
    }
   ],
   "source": [
    "import pandas as pd\n",
    "import plotly.express as px\n",
    "\n",
    "\n",
    "df = pd.read_csv(\"final.csv\")\n",
    "\n",
    "purchase_subset = df[df['event_type'] == 'purchase']\n",
    "\n",
    "# bar graph Top 5 brands dataset\n",
    "\n",
    "brand_counts = purchase_subset['brand'].value_counts().reset_index()\n",
    "brand_counts.columns = ['brand', 'count']\n",
    "brand_counts = brand_counts.head(5)\n",
    "\n",
    "\n",
    "fig = px.bar(brand_counts,x='brand', y='count',title='Top brands')\n",
    "fig.show()\n",
    "\n"
   ]
  },
  {
   "cell_type": "code",
   "execution_count": 2,
   "metadata": {},
   "outputs": [
    {
     "data": {
      "text/html": [
       "<div>\n",
       "<style scoped>\n",
       "    .dataframe tbody tr th:only-of-type {\n",
       "        vertical-align: middle;\n",
       "    }\n",
       "\n",
       "    .dataframe tbody tr th {\n",
       "        vertical-align: top;\n",
       "    }\n",
       "\n",
       "    .dataframe thead th {\n",
       "        text-align: right;\n",
       "    }\n",
       "</style>\n",
       "<table border=\"1\" class=\"dataframe\">\n",
       "  <thead>\n",
       "    <tr style=\"text-align: right;\">\n",
       "      <th></th>\n",
       "      <th>event_type</th>\n",
       "      <th>product_id</th>\n",
       "      <th>category_id</th>\n",
       "      <th>category_code</th>\n",
       "      <th>brand</th>\n",
       "      <th>price</th>\n",
       "      <th>user_id</th>\n",
       "      <th>user_session</th>\n",
       "      <th>date</th>\n",
       "      <th>time</th>\n",
       "    </tr>\n",
       "  </thead>\n",
       "  <tbody>\n",
       "    <tr>\n",
       "      <th>111</th>\n",
       "      <td>purchase</td>\n",
       "      <td>1004856</td>\n",
       "      <td>2053013555631882655</td>\n",
       "      <td>electronics.smartphone</td>\n",
       "      <td>samsung</td>\n",
       "      <td>130.76</td>\n",
       "      <td>543272936</td>\n",
       "      <td>8187d148-3c41-46d4-b0c0-9c08cd9dc564</td>\n",
       "      <td>2019-10-01</td>\n",
       "      <td>00:02:14</td>\n",
       "    </tr>\n",
       "    <tr>\n",
       "      <th>197</th>\n",
       "      <td>purchase</td>\n",
       "      <td>1002532</td>\n",
       "      <td>2053013555631882655</td>\n",
       "      <td>electronics.smartphone</td>\n",
       "      <td>apple</td>\n",
       "      <td>642.69</td>\n",
       "      <td>551377651</td>\n",
       "      <td>3c80f0d6-e9ec-4181-8c5c-837a30be2d68</td>\n",
       "      <td>2019-10-01</td>\n",
       "      <td>00:04:37</td>\n",
       "    </tr>\n",
       "    <tr>\n",
       "      <th>268</th>\n",
       "      <td>purchase</td>\n",
       "      <td>13800054</td>\n",
       "      <td>2053013557418656265</td>\n",
       "      <td>furniture.bathroom.toilet</td>\n",
       "      <td>santeri</td>\n",
       "      <td>54.42</td>\n",
       "      <td>555332717</td>\n",
       "      <td>1dea3ee2-2ded-42e8-8e7a-4e2ad6ae942f</td>\n",
       "      <td>2019-10-01</td>\n",
       "      <td>00:07:07</td>\n",
       "    </tr>\n",
       "    <tr>\n",
       "      <th>339</th>\n",
       "      <td>purchase</td>\n",
       "      <td>4804055</td>\n",
       "      <td>2053013554658804075</td>\n",
       "      <td>electronics.audio.headphone</td>\n",
       "      <td>apple</td>\n",
       "      <td>189.91</td>\n",
       "      <td>524601178</td>\n",
       "      <td>2af9b570-0942-4dcd-8f25-4d84fba82553</td>\n",
       "      <td>2019-10-01</td>\n",
       "      <td>00:09:26</td>\n",
       "    </tr>\n",
       "    <tr>\n",
       "      <th>352</th>\n",
       "      <td>purchase</td>\n",
       "      <td>4804056</td>\n",
       "      <td>2053013554658804075</td>\n",
       "      <td>electronics.audio.headphone</td>\n",
       "      <td>apple</td>\n",
       "      <td>161.98</td>\n",
       "      <td>551377651</td>\n",
       "      <td>3c80f0d6-e9ec-4181-8c5c-837a30be2d68</td>\n",
       "      <td>2019-10-01</td>\n",
       "      <td>00:09:54</td>\n",
       "    </tr>\n",
       "    <tr>\n",
       "      <th>...</th>\n",
       "      <td>...</td>\n",
       "      <td>...</td>\n",
       "      <td>...</td>\n",
       "      <td>...</td>\n",
       "      <td>...</td>\n",
       "      <td>...</td>\n",
       "      <td>...</td>\n",
       "      <td>...</td>\n",
       "      <td>...</td>\n",
       "      <td>...</td>\n",
       "    </tr>\n",
       "    <tr>\n",
       "      <th>61800</th>\n",
       "      <td>purchase</td>\n",
       "      <td>1004767</td>\n",
       "      <td>2053013555631882655</td>\n",
       "      <td>electronics.smartphone</td>\n",
       "      <td>samsung</td>\n",
       "      <td>254.76</td>\n",
       "      <td>552268757</td>\n",
       "      <td>2c8a1bd9-f49e-4300-b1bd-7f1636f7f5cf</td>\n",
       "      <td>2019-10-01</td>\n",
       "      <td>04:28:07</td>\n",
       "    </tr>\n",
       "    <tr>\n",
       "      <th>61923</th>\n",
       "      <td>purchase</td>\n",
       "      <td>1004872</td>\n",
       "      <td>2053013555631882655</td>\n",
       "      <td>electronics.smartphone</td>\n",
       "      <td>samsung</td>\n",
       "      <td>286.35</td>\n",
       "      <td>518674655</td>\n",
       "      <td>a7077991-833d-484c-a081-395620df9c5b</td>\n",
       "      <td>2019-10-01</td>\n",
       "      <td>04:28:22</td>\n",
       "    </tr>\n",
       "    <tr>\n",
       "      <th>61958</th>\n",
       "      <td>purchase</td>\n",
       "      <td>1004856</td>\n",
       "      <td>2053013555631882655</td>\n",
       "      <td>electronics.smartphone</td>\n",
       "      <td>samsung</td>\n",
       "      <td>130.76</td>\n",
       "      <td>522114084</td>\n",
       "      <td>f28ecda4-c118-4c51-9f7f-2b1b84b11975</td>\n",
       "      <td>2019-10-01</td>\n",
       "      <td>04:28:25</td>\n",
       "    </tr>\n",
       "    <tr>\n",
       "      <th>61961</th>\n",
       "      <td>purchase</td>\n",
       "      <td>5100337</td>\n",
       "      <td>2053013553341792533</td>\n",
       "      <td>electronics.clocks</td>\n",
       "      <td>apple</td>\n",
       "      <td>311.84</td>\n",
       "      <td>516278990</td>\n",
       "      <td>acefd607-1a24-496c-a4b8-7e9097a71ddf</td>\n",
       "      <td>2019-10-01</td>\n",
       "      <td>04:28:25</td>\n",
       "    </tr>\n",
       "    <tr>\n",
       "      <th>61978</th>\n",
       "      <td>purchase</td>\n",
       "      <td>1004904</td>\n",
       "      <td>2053013555631882655</td>\n",
       "      <td>electronics.smartphone</td>\n",
       "      <td>huawei</td>\n",
       "      <td>110.34</td>\n",
       "      <td>536561197</td>\n",
       "      <td>65ca1cea-cf63-4533-9981-78c06fc5b45d</td>\n",
       "      <td>2019-10-01</td>\n",
       "      <td>04:28:26</td>\n",
       "    </tr>\n",
       "  </tbody>\n",
       "</table>\n",
       "<p>1216 rows × 10 columns</p>\n",
       "</div>"
      ],
      "text/plain": [
       "      event_type  product_id          category_id  \\\n",
       "111     purchase     1004856  2053013555631882655   \n",
       "197     purchase     1002532  2053013555631882655   \n",
       "268     purchase    13800054  2053013557418656265   \n",
       "339     purchase     4804055  2053013554658804075   \n",
       "352     purchase     4804056  2053013554658804075   \n",
       "...          ...         ...                  ...   \n",
       "61800   purchase     1004767  2053013555631882655   \n",
       "61923   purchase     1004872  2053013555631882655   \n",
       "61958   purchase     1004856  2053013555631882655   \n",
       "61961   purchase     5100337  2053013553341792533   \n",
       "61978   purchase     1004904  2053013555631882655   \n",
       "\n",
       "                     category_code    brand   price    user_id  \\\n",
       "111         electronics.smartphone  samsung  130.76  543272936   \n",
       "197         electronics.smartphone    apple  642.69  551377651   \n",
       "268      furniture.bathroom.toilet  santeri   54.42  555332717   \n",
       "339    electronics.audio.headphone    apple  189.91  524601178   \n",
       "352    electronics.audio.headphone    apple  161.98  551377651   \n",
       "...                            ...      ...     ...        ...   \n",
       "61800       electronics.smartphone  samsung  254.76  552268757   \n",
       "61923       electronics.smartphone  samsung  286.35  518674655   \n",
       "61958       electronics.smartphone  samsung  130.76  522114084   \n",
       "61961           electronics.clocks    apple  311.84  516278990   \n",
       "61978       electronics.smartphone   huawei  110.34  536561197   \n",
       "\n",
       "                               user_session        date      time  \n",
       "111    8187d148-3c41-46d4-b0c0-9c08cd9dc564  2019-10-01  00:02:14  \n",
       "197    3c80f0d6-e9ec-4181-8c5c-837a30be2d68  2019-10-01  00:04:37  \n",
       "268    1dea3ee2-2ded-42e8-8e7a-4e2ad6ae942f  2019-10-01  00:07:07  \n",
       "339    2af9b570-0942-4dcd-8f25-4d84fba82553  2019-10-01  00:09:26  \n",
       "352    3c80f0d6-e9ec-4181-8c5c-837a30be2d68  2019-10-01  00:09:54  \n",
       "...                                     ...         ...       ...  \n",
       "61800  2c8a1bd9-f49e-4300-b1bd-7f1636f7f5cf  2019-10-01  04:28:07  \n",
       "61923  a7077991-833d-484c-a081-395620df9c5b  2019-10-01  04:28:22  \n",
       "61958  f28ecda4-c118-4c51-9f7f-2b1b84b11975  2019-10-01  04:28:25  \n",
       "61961  acefd607-1a24-496c-a4b8-7e9097a71ddf  2019-10-01  04:28:25  \n",
       "61978  65ca1cea-cf63-4533-9981-78c06fc5b45d  2019-10-01  04:28:26  \n",
       "\n",
       "[1216 rows x 10 columns]"
      ]
     },
     "execution_count": 2,
     "metadata": {},
     "output_type": "execute_result"
    }
   ],
   "source": [
    "purchase_subset"
   ]
  },
  {
   "cell_type": "code",
   "execution_count": 3,
   "metadata": {},
   "outputs": [
    {
     "data": {
      "application/vnd.plotly.v1+json": {
       "config": {
        "plotlyServerURL": "https://plot.ly"
       },
       "data": [
        {
         "alignmentgroup": "True",
         "hovertemplate": "category=%{x}<br>count=%{y}<extra></extra>",
         "legendgroup": "",
         "marker": {
          "color": "#636efa",
          "pattern": {
           "shape": ""
          }
         },
         "name": "",
         "offsetgroup": "",
         "orientation": "v",
         "showlegend": false,
         "textposition": "auto",
         "type": "bar",
         "x": [
          "electronics.smartphone",
          "electronics.audio.headphone",
          "electronics.video.tv",
          "appliances.kitchen.washer",
          "electronics.clocks"
         ],
         "xaxis": "x",
         "y": [
          757,
          67,
          41,
          40,
          34
         ],
         "yaxis": "y"
        }
       ],
       "layout": {
        "barmode": "relative",
        "legend": {
         "tracegroupgap": 0
        },
        "template": {
         "data": {
          "bar": [
           {
            "error_x": {
             "color": "#2a3f5f"
            },
            "error_y": {
             "color": "#2a3f5f"
            },
            "marker": {
             "line": {
              "color": "#E5ECF6",
              "width": 0.5
             },
             "pattern": {
              "fillmode": "overlay",
              "size": 10,
              "solidity": 0.2
             }
            },
            "type": "bar"
           }
          ],
          "barpolar": [
           {
            "marker": {
             "line": {
              "color": "#E5ECF6",
              "width": 0.5
             },
             "pattern": {
              "fillmode": "overlay",
              "size": 10,
              "solidity": 0.2
             }
            },
            "type": "barpolar"
           }
          ],
          "carpet": [
           {
            "aaxis": {
             "endlinecolor": "#2a3f5f",
             "gridcolor": "white",
             "linecolor": "white",
             "minorgridcolor": "white",
             "startlinecolor": "#2a3f5f"
            },
            "baxis": {
             "endlinecolor": "#2a3f5f",
             "gridcolor": "white",
             "linecolor": "white",
             "minorgridcolor": "white",
             "startlinecolor": "#2a3f5f"
            },
            "type": "carpet"
           }
          ],
          "choropleth": [
           {
            "colorbar": {
             "outlinewidth": 0,
             "ticks": ""
            },
            "type": "choropleth"
           }
          ],
          "contour": [
           {
            "colorbar": {
             "outlinewidth": 0,
             "ticks": ""
            },
            "colorscale": [
             [
              0,
              "#0d0887"
             ],
             [
              0.1111111111111111,
              "#46039f"
             ],
             [
              0.2222222222222222,
              "#7201a8"
             ],
             [
              0.3333333333333333,
              "#9c179e"
             ],
             [
              0.4444444444444444,
              "#bd3786"
             ],
             [
              0.5555555555555556,
              "#d8576b"
             ],
             [
              0.6666666666666666,
              "#ed7953"
             ],
             [
              0.7777777777777778,
              "#fb9f3a"
             ],
             [
              0.8888888888888888,
              "#fdca26"
             ],
             [
              1,
              "#f0f921"
             ]
            ],
            "type": "contour"
           }
          ],
          "contourcarpet": [
           {
            "colorbar": {
             "outlinewidth": 0,
             "ticks": ""
            },
            "type": "contourcarpet"
           }
          ],
          "heatmap": [
           {
            "colorbar": {
             "outlinewidth": 0,
             "ticks": ""
            },
            "colorscale": [
             [
              0,
              "#0d0887"
             ],
             [
              0.1111111111111111,
              "#46039f"
             ],
             [
              0.2222222222222222,
              "#7201a8"
             ],
             [
              0.3333333333333333,
              "#9c179e"
             ],
             [
              0.4444444444444444,
              "#bd3786"
             ],
             [
              0.5555555555555556,
              "#d8576b"
             ],
             [
              0.6666666666666666,
              "#ed7953"
             ],
             [
              0.7777777777777778,
              "#fb9f3a"
             ],
             [
              0.8888888888888888,
              "#fdca26"
             ],
             [
              1,
              "#f0f921"
             ]
            ],
            "type": "heatmap"
           }
          ],
          "heatmapgl": [
           {
            "colorbar": {
             "outlinewidth": 0,
             "ticks": ""
            },
            "colorscale": [
             [
              0,
              "#0d0887"
             ],
             [
              0.1111111111111111,
              "#46039f"
             ],
             [
              0.2222222222222222,
              "#7201a8"
             ],
             [
              0.3333333333333333,
              "#9c179e"
             ],
             [
              0.4444444444444444,
              "#bd3786"
             ],
             [
              0.5555555555555556,
              "#d8576b"
             ],
             [
              0.6666666666666666,
              "#ed7953"
             ],
             [
              0.7777777777777778,
              "#fb9f3a"
             ],
             [
              0.8888888888888888,
              "#fdca26"
             ],
             [
              1,
              "#f0f921"
             ]
            ],
            "type": "heatmapgl"
           }
          ],
          "histogram": [
           {
            "marker": {
             "pattern": {
              "fillmode": "overlay",
              "size": 10,
              "solidity": 0.2
             }
            },
            "type": "histogram"
           }
          ],
          "histogram2d": [
           {
            "colorbar": {
             "outlinewidth": 0,
             "ticks": ""
            },
            "colorscale": [
             [
              0,
              "#0d0887"
             ],
             [
              0.1111111111111111,
              "#46039f"
             ],
             [
              0.2222222222222222,
              "#7201a8"
             ],
             [
              0.3333333333333333,
              "#9c179e"
             ],
             [
              0.4444444444444444,
              "#bd3786"
             ],
             [
              0.5555555555555556,
              "#d8576b"
             ],
             [
              0.6666666666666666,
              "#ed7953"
             ],
             [
              0.7777777777777778,
              "#fb9f3a"
             ],
             [
              0.8888888888888888,
              "#fdca26"
             ],
             [
              1,
              "#f0f921"
             ]
            ],
            "type": "histogram2d"
           }
          ],
          "histogram2dcontour": [
           {
            "colorbar": {
             "outlinewidth": 0,
             "ticks": ""
            },
            "colorscale": [
             [
              0,
              "#0d0887"
             ],
             [
              0.1111111111111111,
              "#46039f"
             ],
             [
              0.2222222222222222,
              "#7201a8"
             ],
             [
              0.3333333333333333,
              "#9c179e"
             ],
             [
              0.4444444444444444,
              "#bd3786"
             ],
             [
              0.5555555555555556,
              "#d8576b"
             ],
             [
              0.6666666666666666,
              "#ed7953"
             ],
             [
              0.7777777777777778,
              "#fb9f3a"
             ],
             [
              0.8888888888888888,
              "#fdca26"
             ],
             [
              1,
              "#f0f921"
             ]
            ],
            "type": "histogram2dcontour"
           }
          ],
          "mesh3d": [
           {
            "colorbar": {
             "outlinewidth": 0,
             "ticks": ""
            },
            "type": "mesh3d"
           }
          ],
          "parcoords": [
           {
            "line": {
             "colorbar": {
              "outlinewidth": 0,
              "ticks": ""
             }
            },
            "type": "parcoords"
           }
          ],
          "pie": [
           {
            "automargin": true,
            "type": "pie"
           }
          ],
          "scatter": [
           {
            "fillpattern": {
             "fillmode": "overlay",
             "size": 10,
             "solidity": 0.2
            },
            "type": "scatter"
           }
          ],
          "scatter3d": [
           {
            "line": {
             "colorbar": {
              "outlinewidth": 0,
              "ticks": ""
             }
            },
            "marker": {
             "colorbar": {
              "outlinewidth": 0,
              "ticks": ""
             }
            },
            "type": "scatter3d"
           }
          ],
          "scattercarpet": [
           {
            "marker": {
             "colorbar": {
              "outlinewidth": 0,
              "ticks": ""
             }
            },
            "type": "scattercarpet"
           }
          ],
          "scattergeo": [
           {
            "marker": {
             "colorbar": {
              "outlinewidth": 0,
              "ticks": ""
             }
            },
            "type": "scattergeo"
           }
          ],
          "scattergl": [
           {
            "marker": {
             "colorbar": {
              "outlinewidth": 0,
              "ticks": ""
             }
            },
            "type": "scattergl"
           }
          ],
          "scattermapbox": [
           {
            "marker": {
             "colorbar": {
              "outlinewidth": 0,
              "ticks": ""
             }
            },
            "type": "scattermapbox"
           }
          ],
          "scatterpolar": [
           {
            "marker": {
             "colorbar": {
              "outlinewidth": 0,
              "ticks": ""
             }
            },
            "type": "scatterpolar"
           }
          ],
          "scatterpolargl": [
           {
            "marker": {
             "colorbar": {
              "outlinewidth": 0,
              "ticks": ""
             }
            },
            "type": "scatterpolargl"
           }
          ],
          "scatterternary": [
           {
            "marker": {
             "colorbar": {
              "outlinewidth": 0,
              "ticks": ""
             }
            },
            "type": "scatterternary"
           }
          ],
          "surface": [
           {
            "colorbar": {
             "outlinewidth": 0,
             "ticks": ""
            },
            "colorscale": [
             [
              0,
              "#0d0887"
             ],
             [
              0.1111111111111111,
              "#46039f"
             ],
             [
              0.2222222222222222,
              "#7201a8"
             ],
             [
              0.3333333333333333,
              "#9c179e"
             ],
             [
              0.4444444444444444,
              "#bd3786"
             ],
             [
              0.5555555555555556,
              "#d8576b"
             ],
             [
              0.6666666666666666,
              "#ed7953"
             ],
             [
              0.7777777777777778,
              "#fb9f3a"
             ],
             [
              0.8888888888888888,
              "#fdca26"
             ],
             [
              1,
              "#f0f921"
             ]
            ],
            "type": "surface"
           }
          ],
          "table": [
           {
            "cells": {
             "fill": {
              "color": "#EBF0F8"
             },
             "line": {
              "color": "white"
             }
            },
            "header": {
             "fill": {
              "color": "#C8D4E3"
             },
             "line": {
              "color": "white"
             }
            },
            "type": "table"
           }
          ]
         },
         "layout": {
          "annotationdefaults": {
           "arrowcolor": "#2a3f5f",
           "arrowhead": 0,
           "arrowwidth": 1
          },
          "autotypenumbers": "strict",
          "coloraxis": {
           "colorbar": {
            "outlinewidth": 0,
            "ticks": ""
           }
          },
          "colorscale": {
           "diverging": [
            [
             0,
             "#8e0152"
            ],
            [
             0.1,
             "#c51b7d"
            ],
            [
             0.2,
             "#de77ae"
            ],
            [
             0.3,
             "#f1b6da"
            ],
            [
             0.4,
             "#fde0ef"
            ],
            [
             0.5,
             "#f7f7f7"
            ],
            [
             0.6,
             "#e6f5d0"
            ],
            [
             0.7,
             "#b8e186"
            ],
            [
             0.8,
             "#7fbc41"
            ],
            [
             0.9,
             "#4d9221"
            ],
            [
             1,
             "#276419"
            ]
           ],
           "sequential": [
            [
             0,
             "#0d0887"
            ],
            [
             0.1111111111111111,
             "#46039f"
            ],
            [
             0.2222222222222222,
             "#7201a8"
            ],
            [
             0.3333333333333333,
             "#9c179e"
            ],
            [
             0.4444444444444444,
             "#bd3786"
            ],
            [
             0.5555555555555556,
             "#d8576b"
            ],
            [
             0.6666666666666666,
             "#ed7953"
            ],
            [
             0.7777777777777778,
             "#fb9f3a"
            ],
            [
             0.8888888888888888,
             "#fdca26"
            ],
            [
             1,
             "#f0f921"
            ]
           ],
           "sequentialminus": [
            [
             0,
             "#0d0887"
            ],
            [
             0.1111111111111111,
             "#46039f"
            ],
            [
             0.2222222222222222,
             "#7201a8"
            ],
            [
             0.3333333333333333,
             "#9c179e"
            ],
            [
             0.4444444444444444,
             "#bd3786"
            ],
            [
             0.5555555555555556,
             "#d8576b"
            ],
            [
             0.6666666666666666,
             "#ed7953"
            ],
            [
             0.7777777777777778,
             "#fb9f3a"
            ],
            [
             0.8888888888888888,
             "#fdca26"
            ],
            [
             1,
             "#f0f921"
            ]
           ]
          },
          "colorway": [
           "#636efa",
           "#EF553B",
           "#00cc96",
           "#ab63fa",
           "#FFA15A",
           "#19d3f3",
           "#FF6692",
           "#B6E880",
           "#FF97FF",
           "#FECB52"
          ],
          "font": {
           "color": "#2a3f5f"
          },
          "geo": {
           "bgcolor": "white",
           "lakecolor": "white",
           "landcolor": "#E5ECF6",
           "showlakes": true,
           "showland": true,
           "subunitcolor": "white"
          },
          "hoverlabel": {
           "align": "left"
          },
          "hovermode": "closest",
          "mapbox": {
           "style": "light"
          },
          "paper_bgcolor": "white",
          "plot_bgcolor": "#E5ECF6",
          "polar": {
           "angularaxis": {
            "gridcolor": "white",
            "linecolor": "white",
            "ticks": ""
           },
           "bgcolor": "#E5ECF6",
           "radialaxis": {
            "gridcolor": "white",
            "linecolor": "white",
            "ticks": ""
           }
          },
          "scene": {
           "xaxis": {
            "backgroundcolor": "#E5ECF6",
            "gridcolor": "white",
            "gridwidth": 2,
            "linecolor": "white",
            "showbackground": true,
            "ticks": "",
            "zerolinecolor": "white"
           },
           "yaxis": {
            "backgroundcolor": "#E5ECF6",
            "gridcolor": "white",
            "gridwidth": 2,
            "linecolor": "white",
            "showbackground": true,
            "ticks": "",
            "zerolinecolor": "white"
           },
           "zaxis": {
            "backgroundcolor": "#E5ECF6",
            "gridcolor": "white",
            "gridwidth": 2,
            "linecolor": "white",
            "showbackground": true,
            "ticks": "",
            "zerolinecolor": "white"
           }
          },
          "shapedefaults": {
           "line": {
            "color": "#2a3f5f"
           }
          },
          "ternary": {
           "aaxis": {
            "gridcolor": "white",
            "linecolor": "white",
            "ticks": ""
           },
           "baxis": {
            "gridcolor": "white",
            "linecolor": "white",
            "ticks": ""
           },
           "bgcolor": "#E5ECF6",
           "caxis": {
            "gridcolor": "white",
            "linecolor": "white",
            "ticks": ""
           }
          },
          "title": {
           "x": 0.05
          },
          "xaxis": {
           "automargin": true,
           "gridcolor": "white",
           "linecolor": "white",
           "ticks": "",
           "title": {
            "standoff": 15
           },
           "zerolinecolor": "white",
           "zerolinewidth": 2
          },
          "yaxis": {
           "automargin": true,
           "gridcolor": "white",
           "linecolor": "white",
           "ticks": "",
           "title": {
            "standoff": 15
           },
           "zerolinecolor": "white",
           "zerolinewidth": 2
          }
         }
        },
        "title": {
         "text": "Top category"
        },
        "xaxis": {
         "anchor": "y",
         "domain": [
          0,
          1
         ],
         "title": {
          "text": "category"
         }
        },
        "yaxis": {
         "anchor": "x",
         "domain": [
          0,
          1
         ],
         "title": {
          "text": "count"
         }
        }
       }
      }
     },
     "metadata": {},
     "output_type": "display_data"
    }
   ],
   "source": [
    "# bar graph of top categories\n",
    "\n",
    "top_categories =purchase_subset['category_code'].value_counts().head(5).reset_index()\n",
    "top_categories.columns = ['category','count']\n",
    "\n",
    "fig  = px.bar(top_categories,x='category',y='count',title='Top category')\n",
    "fig.show()"
   ]
  },
  {
   "cell_type": "code",
   "execution_count": 4,
   "metadata": {},
   "outputs": [
    {
     "data": {
      "text/html": [
       "<div>\n",
       "<style scoped>\n",
       "    .dataframe tbody tr th:only-of-type {\n",
       "        vertical-align: middle;\n",
       "    }\n",
       "\n",
       "    .dataframe tbody tr th {\n",
       "        vertical-align: top;\n",
       "    }\n",
       "\n",
       "    .dataframe thead th {\n",
       "        text-align: right;\n",
       "    }\n",
       "</style>\n",
       "<table border=\"1\" class=\"dataframe\">\n",
       "  <thead>\n",
       "    <tr style=\"text-align: right;\">\n",
       "      <th></th>\n",
       "      <th>events</th>\n",
       "      <th>count</th>\n",
       "    </tr>\n",
       "  </thead>\n",
       "  <tbody>\n",
       "    <tr>\n",
       "      <th>0</th>\n",
       "      <td>view</td>\n",
       "      <td>59685</td>\n",
       "    </tr>\n",
       "    <tr>\n",
       "      <th>1</th>\n",
       "      <td>purchase</td>\n",
       "      <td>1216</td>\n",
       "    </tr>\n",
       "    <tr>\n",
       "      <th>2</th>\n",
       "      <td>cart</td>\n",
       "      <td>1085</td>\n",
       "    </tr>\n",
       "  </tbody>\n",
       "</table>\n",
       "</div>"
      ],
      "text/plain": [
       "     events  count\n",
       "0      view  59685\n",
       "1  purchase   1216\n",
       "2      cart   1085"
      ]
     },
     "execution_count": 4,
     "metadata": {},
     "output_type": "execute_result"
    }
   ],
   "source": [
    "# event counts\n",
    "eventCount  = df['event_type'].value_counts().reset_index()\n",
    "eventCount.columns = ['events','count']\n",
    "eventCount\n"
   ]
  },
  {
   "cell_type": "code",
   "execution_count": 5,
   "metadata": {},
   "outputs": [
    {
     "data": {
      "text/html": [
       "<div>\n",
       "<style scoped>\n",
       "    .dataframe tbody tr th:only-of-type {\n",
       "        vertical-align: middle;\n",
       "    }\n",
       "\n",
       "    .dataframe tbody tr th {\n",
       "        vertical-align: top;\n",
       "    }\n",
       "\n",
       "    .dataframe thead th {\n",
       "        text-align: right;\n",
       "    }\n",
       "</style>\n",
       "<table border=\"1\" class=\"dataframe\">\n",
       "  <thead>\n",
       "    <tr style=\"text-align: right;\">\n",
       "      <th></th>\n",
       "      <th>brand</th>\n",
       "      <th>date</th>\n",
       "      <th>price</th>\n",
       "    </tr>\n",
       "  </thead>\n",
       "  <tbody>\n",
       "    <tr>\n",
       "      <th>197</th>\n",
       "      <td>apple</td>\n",
       "      <td>2022-06-09</td>\n",
       "      <td>642.69</td>\n",
       "    </tr>\n",
       "    <tr>\n",
       "      <th>339</th>\n",
       "      <td>apple</td>\n",
       "      <td>2022-06-10</td>\n",
       "      <td>189.91</td>\n",
       "    </tr>\n",
       "    <tr>\n",
       "      <th>352</th>\n",
       "      <td>apple</td>\n",
       "      <td>2022-06-11</td>\n",
       "      <td>161.98</td>\n",
       "    </tr>\n",
       "    <tr>\n",
       "      <th>362</th>\n",
       "      <td>apple</td>\n",
       "      <td>2022-06-12</td>\n",
       "      <td>515.67</td>\n",
       "    </tr>\n",
       "    <tr>\n",
       "      <th>430</th>\n",
       "      <td>apple</td>\n",
       "      <td>2022-06-13</td>\n",
       "      <td>171.56</td>\n",
       "    </tr>\n",
       "    <tr>\n",
       "      <th>...</th>\n",
       "      <td>...</td>\n",
       "      <td>...</td>\n",
       "      <td>...</td>\n",
       "    </tr>\n",
       "    <tr>\n",
       "      <th>60698</th>\n",
       "      <td>apple</td>\n",
       "      <td>2023-03-28</td>\n",
       "      <td>957.53</td>\n",
       "    </tr>\n",
       "    <tr>\n",
       "      <th>61270</th>\n",
       "      <td>apple</td>\n",
       "      <td>2023-03-29</td>\n",
       "      <td>161.93</td>\n",
       "    </tr>\n",
       "    <tr>\n",
       "      <th>61322</th>\n",
       "      <td>apple</td>\n",
       "      <td>2023-03-30</td>\n",
       "      <td>161.93</td>\n",
       "    </tr>\n",
       "    <tr>\n",
       "      <th>61781</th>\n",
       "      <td>apple</td>\n",
       "      <td>2023-03-31</td>\n",
       "      <td>1413.16</td>\n",
       "    </tr>\n",
       "    <tr>\n",
       "      <th>61961</th>\n",
       "      <td>apple</td>\n",
       "      <td>2023-04-01</td>\n",
       "      <td>311.84</td>\n",
       "    </tr>\n",
       "  </tbody>\n",
       "</table>\n",
       "<p>297 rows × 3 columns</p>\n",
       "</div>"
      ],
      "text/plain": [
       "       brand       date    price\n",
       "197    apple 2022-06-09   642.69\n",
       "339    apple 2022-06-10   189.91\n",
       "352    apple 2022-06-11   161.98\n",
       "362    apple 2022-06-12   515.67\n",
       "430    apple 2022-06-13   171.56\n",
       "...      ...        ...      ...\n",
       "60698  apple 2023-03-28   957.53\n",
       "61270  apple 2023-03-29   161.93\n",
       "61322  apple 2023-03-30   161.93\n",
       "61781  apple 2023-03-31  1413.16\n",
       "61961  apple 2023-04-01   311.84\n",
       "\n",
       "[297 rows x 3 columns]"
      ]
     },
     "execution_count": 5,
     "metadata": {},
     "output_type": "execute_result"
    }
   ],
   "source": [
    "# Line chart for apple and huawei \n",
    "apple_purchase = purchase_subset[purchase_subset ['brand']=='apple']\n",
    "apple_purchase = apple_purchase.drop(['date'],axis=1)\n",
    "start_date = '06-09-2022'\n",
    "end_date = pd.to_datetime('today')  # Use today's date as the end date\n",
    "date_range = pd.date_range(start=start_date, end=end_date)\n",
    "\n",
    "# Assign the date range to the 'date' column in the DataFrame\n",
    "apple_purchase['date'] = date_range[:len(apple_purchase)]\n",
    "apple_purchase = apple_purchase[['brand','date','price']]\n",
    "apple_purchase\n",
    "# fig apple_sale = px.line(apple_purchase, x=\"date\", y=\"price\")\n"
   ]
  },
  {
   "cell_type": "code",
   "execution_count": 6,
   "metadata": {},
   "outputs": [
    {
     "data": {
      "text/html": [
       "<div>\n",
       "<style scoped>\n",
       "    .dataframe tbody tr th:only-of-type {\n",
       "        vertical-align: middle;\n",
       "    }\n",
       "\n",
       "    .dataframe tbody tr th {\n",
       "        vertical-align: top;\n",
       "    }\n",
       "\n",
       "    .dataframe thead th {\n",
       "        text-align: right;\n",
       "    }\n",
       "</style>\n",
       "<table border=\"1\" class=\"dataframe\">\n",
       "  <thead>\n",
       "    <tr style=\"text-align: right;\">\n",
       "      <th></th>\n",
       "      <th>brand</th>\n",
       "      <th>date</th>\n",
       "      <th>price</th>\n",
       "    </tr>\n",
       "  </thead>\n",
       "  <tbody>\n",
       "    <tr>\n",
       "      <th>1778</th>\n",
       "      <td>huawei</td>\n",
       "      <td>2022-06-09</td>\n",
       "      <td>111.82</td>\n",
       "    </tr>\n",
       "    <tr>\n",
       "      <th>2862</th>\n",
       "      <td>huawei</td>\n",
       "      <td>2022-06-10</td>\n",
       "      <td>177.20</td>\n",
       "    </tr>\n",
       "    <tr>\n",
       "      <th>4703</th>\n",
       "      <td>huawei</td>\n",
       "      <td>2022-06-11</td>\n",
       "      <td>258.21</td>\n",
       "    </tr>\n",
       "    <tr>\n",
       "      <th>5601</th>\n",
       "      <td>huawei</td>\n",
       "      <td>2022-06-12</td>\n",
       "      <td>124.84</td>\n",
       "    </tr>\n",
       "    <tr>\n",
       "      <th>8635</th>\n",
       "      <td>huawei</td>\n",
       "      <td>2022-06-13</td>\n",
       "      <td>130.65</td>\n",
       "    </tr>\n",
       "    <tr>\n",
       "      <th>8762</th>\n",
       "      <td>huawei</td>\n",
       "      <td>2022-06-14</td>\n",
       "      <td>694.48</td>\n",
       "    </tr>\n",
       "    <tr>\n",
       "      <th>8950</th>\n",
       "      <td>huawei</td>\n",
       "      <td>2022-06-15</td>\n",
       "      <td>159.77</td>\n",
       "    </tr>\n",
       "    <tr>\n",
       "      <th>10829</th>\n",
       "      <td>huawei</td>\n",
       "      <td>2022-06-16</td>\n",
       "      <td>159.77</td>\n",
       "    </tr>\n",
       "    <tr>\n",
       "      <th>12698</th>\n",
       "      <td>huawei</td>\n",
       "      <td>2022-06-17</td>\n",
       "      <td>130.95</td>\n",
       "    </tr>\n",
       "    <tr>\n",
       "      <th>13505</th>\n",
       "      <td>huawei</td>\n",
       "      <td>2022-06-18</td>\n",
       "      <td>111.82</td>\n",
       "    </tr>\n",
       "    <tr>\n",
       "      <th>14361</th>\n",
       "      <td>huawei</td>\n",
       "      <td>2022-06-19</td>\n",
       "      <td>243.25</td>\n",
       "    </tr>\n",
       "    <tr>\n",
       "      <th>16815</th>\n",
       "      <td>huawei</td>\n",
       "      <td>2022-06-20</td>\n",
       "      <td>278.54</td>\n",
       "    </tr>\n",
       "    <tr>\n",
       "      <th>19403</th>\n",
       "      <td>huawei</td>\n",
       "      <td>2022-06-21</td>\n",
       "      <td>963.27</td>\n",
       "    </tr>\n",
       "    <tr>\n",
       "      <th>21734</th>\n",
       "      <td>huawei</td>\n",
       "      <td>2022-06-22</td>\n",
       "      <td>111.79</td>\n",
       "    </tr>\n",
       "    <tr>\n",
       "      <th>22031</th>\n",
       "      <td>huawei</td>\n",
       "      <td>2022-06-23</td>\n",
       "      <td>676.89</td>\n",
       "    </tr>\n",
       "    <tr>\n",
       "      <th>22265</th>\n",
       "      <td>huawei</td>\n",
       "      <td>2022-06-24</td>\n",
       "      <td>278.54</td>\n",
       "    </tr>\n",
       "    <tr>\n",
       "      <th>24508</th>\n",
       "      <td>huawei</td>\n",
       "      <td>2022-06-25</td>\n",
       "      <td>609.72</td>\n",
       "    </tr>\n",
       "    <tr>\n",
       "      <th>25755</th>\n",
       "      <td>huawei</td>\n",
       "      <td>2022-06-26</td>\n",
       "      <td>278.54</td>\n",
       "    </tr>\n",
       "    <tr>\n",
       "      <th>26455</th>\n",
       "      <td>huawei</td>\n",
       "      <td>2022-06-27</td>\n",
       "      <td>257.12</td>\n",
       "    </tr>\n",
       "    <tr>\n",
       "      <th>26486</th>\n",
       "      <td>huawei</td>\n",
       "      <td>2022-06-28</td>\n",
       "      <td>124.84</td>\n",
       "    </tr>\n",
       "    <tr>\n",
       "      <th>26806</th>\n",
       "      <td>huawei</td>\n",
       "      <td>2022-06-29</td>\n",
       "      <td>243.25</td>\n",
       "    </tr>\n",
       "    <tr>\n",
       "      <th>28794</th>\n",
       "      <td>huawei</td>\n",
       "      <td>2022-06-30</td>\n",
       "      <td>278.24</td>\n",
       "    </tr>\n",
       "    <tr>\n",
       "      <th>28939</th>\n",
       "      <td>huawei</td>\n",
       "      <td>2022-07-01</td>\n",
       "      <td>155.71</td>\n",
       "    </tr>\n",
       "    <tr>\n",
       "      <th>30084</th>\n",
       "      <td>huawei</td>\n",
       "      <td>2022-07-02</td>\n",
       "      <td>278.54</td>\n",
       "    </tr>\n",
       "    <tr>\n",
       "      <th>30810</th>\n",
       "      <td>huawei</td>\n",
       "      <td>2022-07-03</td>\n",
       "      <td>243.25</td>\n",
       "    </tr>\n",
       "    <tr>\n",
       "      <th>30856</th>\n",
       "      <td>huawei</td>\n",
       "      <td>2022-07-04</td>\n",
       "      <td>278.54</td>\n",
       "    </tr>\n",
       "    <tr>\n",
       "      <th>32383</th>\n",
       "      <td>huawei</td>\n",
       "      <td>2022-07-05</td>\n",
       "      <td>243.25</td>\n",
       "    </tr>\n",
       "    <tr>\n",
       "      <th>34318</th>\n",
       "      <td>huawei</td>\n",
       "      <td>2022-07-06</td>\n",
       "      <td>175.83</td>\n",
       "    </tr>\n",
       "    <tr>\n",
       "      <th>35452</th>\n",
       "      <td>huawei</td>\n",
       "      <td>2022-07-07</td>\n",
       "      <td>159.69</td>\n",
       "    </tr>\n",
       "    <tr>\n",
       "      <th>38275</th>\n",
       "      <td>huawei</td>\n",
       "      <td>2022-07-08</td>\n",
       "      <td>278.24</td>\n",
       "    </tr>\n",
       "    <tr>\n",
       "      <th>38372</th>\n",
       "      <td>huawei</td>\n",
       "      <td>2022-07-09</td>\n",
       "      <td>278.24</td>\n",
       "    </tr>\n",
       "    <tr>\n",
       "      <th>38744</th>\n",
       "      <td>huawei</td>\n",
       "      <td>2022-07-10</td>\n",
       "      <td>111.79</td>\n",
       "    </tr>\n",
       "    <tr>\n",
       "      <th>38965</th>\n",
       "      <td>huawei</td>\n",
       "      <td>2022-07-11</td>\n",
       "      <td>159.69</td>\n",
       "    </tr>\n",
       "    <tr>\n",
       "      <th>39465</th>\n",
       "      <td>huawei</td>\n",
       "      <td>2022-07-12</td>\n",
       "      <td>694.48</td>\n",
       "    </tr>\n",
       "    <tr>\n",
       "      <th>40103</th>\n",
       "      <td>huawei</td>\n",
       "      <td>2022-07-13</td>\n",
       "      <td>155.71</td>\n",
       "    </tr>\n",
       "    <tr>\n",
       "      <th>40973</th>\n",
       "      <td>huawei</td>\n",
       "      <td>2022-07-14</td>\n",
       "      <td>177.44</td>\n",
       "    </tr>\n",
       "    <tr>\n",
       "      <th>41627</th>\n",
       "      <td>huawei</td>\n",
       "      <td>2022-07-15</td>\n",
       "      <td>41.16</td>\n",
       "    </tr>\n",
       "    <tr>\n",
       "      <th>41842</th>\n",
       "      <td>huawei</td>\n",
       "      <td>2022-07-16</td>\n",
       "      <td>177.44</td>\n",
       "    </tr>\n",
       "    <tr>\n",
       "      <th>41938</th>\n",
       "      <td>huawei</td>\n",
       "      <td>2022-07-17</td>\n",
       "      <td>175.83</td>\n",
       "    </tr>\n",
       "    <tr>\n",
       "      <th>44686</th>\n",
       "      <td>huawei</td>\n",
       "      <td>2022-07-18</td>\n",
       "      <td>278.54</td>\n",
       "    </tr>\n",
       "    <tr>\n",
       "      <th>49077</th>\n",
       "      <td>huawei</td>\n",
       "      <td>2022-07-19</td>\n",
       "      <td>159.69</td>\n",
       "    </tr>\n",
       "    <tr>\n",
       "      <th>49229</th>\n",
       "      <td>huawei</td>\n",
       "      <td>2022-07-20</td>\n",
       "      <td>110.34</td>\n",
       "    </tr>\n",
       "    <tr>\n",
       "      <th>50566</th>\n",
       "      <td>huawei</td>\n",
       "      <td>2022-07-21</td>\n",
       "      <td>110.24</td>\n",
       "    </tr>\n",
       "    <tr>\n",
       "      <th>51045</th>\n",
       "      <td>huawei</td>\n",
       "      <td>2022-07-22</td>\n",
       "      <td>177.44</td>\n",
       "    </tr>\n",
       "    <tr>\n",
       "      <th>51575</th>\n",
       "      <td>huawei</td>\n",
       "      <td>2022-07-23</td>\n",
       "      <td>182.99</td>\n",
       "    </tr>\n",
       "    <tr>\n",
       "      <th>51964</th>\n",
       "      <td>huawei</td>\n",
       "      <td>2022-07-24</td>\n",
       "      <td>676.89</td>\n",
       "    </tr>\n",
       "    <tr>\n",
       "      <th>52442</th>\n",
       "      <td>huawei</td>\n",
       "      <td>2022-07-25</td>\n",
       "      <td>159.69</td>\n",
       "    </tr>\n",
       "    <tr>\n",
       "      <th>53399</th>\n",
       "      <td>huawei</td>\n",
       "      <td>2022-07-26</td>\n",
       "      <td>258.18</td>\n",
       "    </tr>\n",
       "    <tr>\n",
       "      <th>53406</th>\n",
       "      <td>huawei</td>\n",
       "      <td>2022-07-27</td>\n",
       "      <td>278.54</td>\n",
       "    </tr>\n",
       "    <tr>\n",
       "      <th>53650</th>\n",
       "      <td>huawei</td>\n",
       "      <td>2022-07-28</td>\n",
       "      <td>130.62</td>\n",
       "    </tr>\n",
       "    <tr>\n",
       "      <th>54207</th>\n",
       "      <td>huawei</td>\n",
       "      <td>2022-07-29</td>\n",
       "      <td>167.03</td>\n",
       "    </tr>\n",
       "    <tr>\n",
       "      <th>55427</th>\n",
       "      <td>huawei</td>\n",
       "      <td>2022-07-30</td>\n",
       "      <td>159.69</td>\n",
       "    </tr>\n",
       "    <tr>\n",
       "      <th>55827</th>\n",
       "      <td>huawei</td>\n",
       "      <td>2022-07-31</td>\n",
       "      <td>177.44</td>\n",
       "    </tr>\n",
       "    <tr>\n",
       "      <th>55906</th>\n",
       "      <td>huawei</td>\n",
       "      <td>2022-08-01</td>\n",
       "      <td>177.44</td>\n",
       "    </tr>\n",
       "    <tr>\n",
       "      <th>56235</th>\n",
       "      <td>huawei</td>\n",
       "      <td>2022-08-02</td>\n",
       "      <td>278.54</td>\n",
       "    </tr>\n",
       "    <tr>\n",
       "      <th>57361</th>\n",
       "      <td>huawei</td>\n",
       "      <td>2022-08-03</td>\n",
       "      <td>175.83</td>\n",
       "    </tr>\n",
       "    <tr>\n",
       "      <th>59790</th>\n",
       "      <td>huawei</td>\n",
       "      <td>2022-08-04</td>\n",
       "      <td>182.99</td>\n",
       "    </tr>\n",
       "    <tr>\n",
       "      <th>61047</th>\n",
       "      <td>huawei</td>\n",
       "      <td>2022-08-05</td>\n",
       "      <td>243.25</td>\n",
       "    </tr>\n",
       "    <tr>\n",
       "      <th>61797</th>\n",
       "      <td>huawei</td>\n",
       "      <td>2022-08-06</td>\n",
       "      <td>149.30</td>\n",
       "    </tr>\n",
       "    <tr>\n",
       "      <th>61978</th>\n",
       "      <td>huawei</td>\n",
       "      <td>2022-08-07</td>\n",
       "      <td>110.34</td>\n",
       "    </tr>\n",
       "  </tbody>\n",
       "</table>\n",
       "</div>"
      ],
      "text/plain": [
       "        brand       date   price\n",
       "1778   huawei 2022-06-09  111.82\n",
       "2862   huawei 2022-06-10  177.20\n",
       "4703   huawei 2022-06-11  258.21\n",
       "5601   huawei 2022-06-12  124.84\n",
       "8635   huawei 2022-06-13  130.65\n",
       "8762   huawei 2022-06-14  694.48\n",
       "8950   huawei 2022-06-15  159.77\n",
       "10829  huawei 2022-06-16  159.77\n",
       "12698  huawei 2022-06-17  130.95\n",
       "13505  huawei 2022-06-18  111.82\n",
       "14361  huawei 2022-06-19  243.25\n",
       "16815  huawei 2022-06-20  278.54\n",
       "19403  huawei 2022-06-21  963.27\n",
       "21734  huawei 2022-06-22  111.79\n",
       "22031  huawei 2022-06-23  676.89\n",
       "22265  huawei 2022-06-24  278.54\n",
       "24508  huawei 2022-06-25  609.72\n",
       "25755  huawei 2022-06-26  278.54\n",
       "26455  huawei 2022-06-27  257.12\n",
       "26486  huawei 2022-06-28  124.84\n",
       "26806  huawei 2022-06-29  243.25\n",
       "28794  huawei 2022-06-30  278.24\n",
       "28939  huawei 2022-07-01  155.71\n",
       "30084  huawei 2022-07-02  278.54\n",
       "30810  huawei 2022-07-03  243.25\n",
       "30856  huawei 2022-07-04  278.54\n",
       "32383  huawei 2022-07-05  243.25\n",
       "34318  huawei 2022-07-06  175.83\n",
       "35452  huawei 2022-07-07  159.69\n",
       "38275  huawei 2022-07-08  278.24\n",
       "38372  huawei 2022-07-09  278.24\n",
       "38744  huawei 2022-07-10  111.79\n",
       "38965  huawei 2022-07-11  159.69\n",
       "39465  huawei 2022-07-12  694.48\n",
       "40103  huawei 2022-07-13  155.71\n",
       "40973  huawei 2022-07-14  177.44\n",
       "41627  huawei 2022-07-15   41.16\n",
       "41842  huawei 2022-07-16  177.44\n",
       "41938  huawei 2022-07-17  175.83\n",
       "44686  huawei 2022-07-18  278.54\n",
       "49077  huawei 2022-07-19  159.69\n",
       "49229  huawei 2022-07-20  110.34\n",
       "50566  huawei 2022-07-21  110.24\n",
       "51045  huawei 2022-07-22  177.44\n",
       "51575  huawei 2022-07-23  182.99\n",
       "51964  huawei 2022-07-24  676.89\n",
       "52442  huawei 2022-07-25  159.69\n",
       "53399  huawei 2022-07-26  258.18\n",
       "53406  huawei 2022-07-27  278.54\n",
       "53650  huawei 2022-07-28  130.62\n",
       "54207  huawei 2022-07-29  167.03\n",
       "55427  huawei 2022-07-30  159.69\n",
       "55827  huawei 2022-07-31  177.44\n",
       "55906  huawei 2022-08-01  177.44\n",
       "56235  huawei 2022-08-02  278.54\n",
       "57361  huawei 2022-08-03  175.83\n",
       "59790  huawei 2022-08-04  182.99\n",
       "61047  huawei 2022-08-05  243.25\n",
       "61797  huawei 2022-08-06  149.30\n",
       "61978  huawei 2022-08-07  110.34"
      ]
     },
     "execution_count": 6,
     "metadata": {},
     "output_type": "execute_result"
    }
   ],
   "source": [
    "# Line chart for apple and huawei \n",
    "huawei_purchase = purchase_subset[purchase_subset ['brand']=='huawei']\n",
    "huawei_purchase = huawei_purchase.drop(['date'],axis=1)\n",
    "start_date = '06-09-2022'\n",
    "end_date = pd.to_datetime('today')  # Use today's date as the end date\n",
    "date_range = pd.date_range(start=start_date, end=end_date)\n",
    "\n",
    "# Assign the date range to the 'date' column in the DataFrame\n",
    "huawei_purchase['date'] = date_range[:len(huawei_purchase)]\n",
    "huawei_purchase = huawei_purchase[['brand','date','price']]\n",
    "# fig_applesale = px.line(apple_purchase, x=\"date\", y=\"price\")\n",
    "# fig_huaweisale = px.line(huawei_purchase, x=\"date\", y=\"price\")\n",
    "huawei_purchase"
   ]
  },
  {
   "cell_type": "code",
   "execution_count": 7,
   "metadata": {},
   "outputs": [
    {
     "data": {
      "text/html": [
       "<div>\n",
       "<style scoped>\n",
       "    .dataframe tbody tr th:only-of-type {\n",
       "        vertical-align: middle;\n",
       "    }\n",
       "\n",
       "    .dataframe tbody tr th {\n",
       "        vertical-align: top;\n",
       "    }\n",
       "\n",
       "    .dataframe thead th {\n",
       "        text-align: right;\n",
       "    }\n",
       "</style>\n",
       "<table border=\"1\" class=\"dataframe\">\n",
       "  <thead>\n",
       "    <tr style=\"text-align: right;\">\n",
       "      <th></th>\n",
       "      <th>brand</th>\n",
       "      <th>date</th>\n",
       "      <th>price</th>\n",
       "    </tr>\n",
       "  </thead>\n",
       "  <tbody>\n",
       "    <tr>\n",
       "      <th>197</th>\n",
       "      <td>apple</td>\n",
       "      <td>2022-06-09</td>\n",
       "      <td>642.69</td>\n",
       "    </tr>\n",
       "    <tr>\n",
       "      <th>339</th>\n",
       "      <td>apple</td>\n",
       "      <td>2022-06-10</td>\n",
       "      <td>189.91</td>\n",
       "    </tr>\n",
       "    <tr>\n",
       "      <th>352</th>\n",
       "      <td>apple</td>\n",
       "      <td>2022-06-11</td>\n",
       "      <td>161.98</td>\n",
       "    </tr>\n",
       "    <tr>\n",
       "      <th>362</th>\n",
       "      <td>apple</td>\n",
       "      <td>2022-06-12</td>\n",
       "      <td>515.67</td>\n",
       "    </tr>\n",
       "    <tr>\n",
       "      <th>430</th>\n",
       "      <td>apple</td>\n",
       "      <td>2022-06-13</td>\n",
       "      <td>171.56</td>\n",
       "    </tr>\n",
       "    <tr>\n",
       "      <th>...</th>\n",
       "      <td>...</td>\n",
       "      <td>...</td>\n",
       "      <td>...</td>\n",
       "    </tr>\n",
       "    <tr>\n",
       "      <th>57361</th>\n",
       "      <td>huawei</td>\n",
       "      <td>2022-08-03</td>\n",
       "      <td>175.83</td>\n",
       "    </tr>\n",
       "    <tr>\n",
       "      <th>59790</th>\n",
       "      <td>huawei</td>\n",
       "      <td>2022-08-04</td>\n",
       "      <td>182.99</td>\n",
       "    </tr>\n",
       "    <tr>\n",
       "      <th>61047</th>\n",
       "      <td>huawei</td>\n",
       "      <td>2022-08-05</td>\n",
       "      <td>243.25</td>\n",
       "    </tr>\n",
       "    <tr>\n",
       "      <th>61797</th>\n",
       "      <td>huawei</td>\n",
       "      <td>2022-08-06</td>\n",
       "      <td>149.30</td>\n",
       "    </tr>\n",
       "    <tr>\n",
       "      <th>61978</th>\n",
       "      <td>huawei</td>\n",
       "      <td>2022-08-07</td>\n",
       "      <td>110.34</td>\n",
       "    </tr>\n",
       "  </tbody>\n",
       "</table>\n",
       "<p>357 rows × 3 columns</p>\n",
       "</div>"
      ],
      "text/plain": [
       "        brand       date   price\n",
       "197     apple 2022-06-09  642.69\n",
       "339     apple 2022-06-10  189.91\n",
       "352     apple 2022-06-11  161.98\n",
       "362     apple 2022-06-12  515.67\n",
       "430     apple 2022-06-13  171.56\n",
       "...       ...        ...     ...\n",
       "57361  huawei 2022-08-03  175.83\n",
       "59790  huawei 2022-08-04  182.99\n",
       "61047  huawei 2022-08-05  243.25\n",
       "61797  huawei 2022-08-06  149.30\n",
       "61978  huawei 2022-08-07  110.34\n",
       "\n",
       "[357 rows x 3 columns]"
      ]
     },
     "execution_count": 7,
     "metadata": {},
     "output_type": "execute_result"
    }
   ],
   "source": [
    "farme = [apple_purchase, huawei_purchase]\n",
    "result = pd.concat(farme)\n",
    "result\n",
    "# resultfig = px.line(result, x=\"date\", y=\"price\")"
   ]
  },
  {
   "cell_type": "code",
   "execution_count": 8,
   "metadata": {},
   "outputs": [
    {
     "data": {
      "text/html": [
       "<div>\n",
       "<style scoped>\n",
       "    .dataframe tbody tr th:only-of-type {\n",
       "        vertical-align: middle;\n",
       "    }\n",
       "\n",
       "    .dataframe tbody tr th {\n",
       "        vertical-align: top;\n",
       "    }\n",
       "\n",
       "    .dataframe thead th {\n",
       "        text-align: right;\n",
       "    }\n",
       "</style>\n",
       "<table border=\"1\" class=\"dataframe\">\n",
       "  <thead>\n",
       "    <tr style=\"text-align: right;\">\n",
       "      <th></th>\n",
       "      <th>event_type</th>\n",
       "      <th>product_id</th>\n",
       "      <th>category_id</th>\n",
       "      <th>category_code</th>\n",
       "      <th>brand</th>\n",
       "      <th>price</th>\n",
       "      <th>user_id</th>\n",
       "      <th>user_session</th>\n",
       "      <th>date</th>\n",
       "      <th>time</th>\n",
       "    </tr>\n",
       "  </thead>\n",
       "  <tbody>\n",
       "    <tr>\n",
       "      <th>111</th>\n",
       "      <td>purchase</td>\n",
       "      <td>1004856</td>\n",
       "      <td>2053013555631882655</td>\n",
       "      <td>electronics.smartphone</td>\n",
       "      <td>samsung</td>\n",
       "      <td>130.76</td>\n",
       "      <td>543272936</td>\n",
       "      <td>8187d148-3c41-46d4-b0c0-9c08cd9dc564</td>\n",
       "      <td>2019-10-01</td>\n",
       "      <td>00:02:14</td>\n",
       "    </tr>\n",
       "    <tr>\n",
       "      <th>197</th>\n",
       "      <td>purchase</td>\n",
       "      <td>1002532</td>\n",
       "      <td>2053013555631882655</td>\n",
       "      <td>electronics.smartphone</td>\n",
       "      <td>apple</td>\n",
       "      <td>642.69</td>\n",
       "      <td>551377651</td>\n",
       "      <td>3c80f0d6-e9ec-4181-8c5c-837a30be2d68</td>\n",
       "      <td>2019-10-01</td>\n",
       "      <td>00:04:37</td>\n",
       "    </tr>\n",
       "    <tr>\n",
       "      <th>268</th>\n",
       "      <td>purchase</td>\n",
       "      <td>13800054</td>\n",
       "      <td>2053013557418656265</td>\n",
       "      <td>furniture.bathroom.toilet</td>\n",
       "      <td>santeri</td>\n",
       "      <td>54.42</td>\n",
       "      <td>555332717</td>\n",
       "      <td>1dea3ee2-2ded-42e8-8e7a-4e2ad6ae942f</td>\n",
       "      <td>2019-10-01</td>\n",
       "      <td>00:07:07</td>\n",
       "    </tr>\n",
       "    <tr>\n",
       "      <th>339</th>\n",
       "      <td>purchase</td>\n",
       "      <td>4804055</td>\n",
       "      <td>2053013554658804075</td>\n",
       "      <td>electronics.audio.headphone</td>\n",
       "      <td>apple</td>\n",
       "      <td>189.91</td>\n",
       "      <td>524601178</td>\n",
       "      <td>2af9b570-0942-4dcd-8f25-4d84fba82553</td>\n",
       "      <td>2019-10-01</td>\n",
       "      <td>00:09:26</td>\n",
       "    </tr>\n",
       "    <tr>\n",
       "      <th>352</th>\n",
       "      <td>purchase</td>\n",
       "      <td>4804056</td>\n",
       "      <td>2053013554658804075</td>\n",
       "      <td>electronics.audio.headphone</td>\n",
       "      <td>apple</td>\n",
       "      <td>161.98</td>\n",
       "      <td>551377651</td>\n",
       "      <td>3c80f0d6-e9ec-4181-8c5c-837a30be2d68</td>\n",
       "      <td>2019-10-01</td>\n",
       "      <td>00:09:54</td>\n",
       "    </tr>\n",
       "    <tr>\n",
       "      <th>...</th>\n",
       "      <td>...</td>\n",
       "      <td>...</td>\n",
       "      <td>...</td>\n",
       "      <td>...</td>\n",
       "      <td>...</td>\n",
       "      <td>...</td>\n",
       "      <td>...</td>\n",
       "      <td>...</td>\n",
       "      <td>...</td>\n",
       "      <td>...</td>\n",
       "    </tr>\n",
       "    <tr>\n",
       "      <th>61800</th>\n",
       "      <td>purchase</td>\n",
       "      <td>1004767</td>\n",
       "      <td>2053013555631882655</td>\n",
       "      <td>electronics.smartphone</td>\n",
       "      <td>samsung</td>\n",
       "      <td>254.76</td>\n",
       "      <td>552268757</td>\n",
       "      <td>2c8a1bd9-f49e-4300-b1bd-7f1636f7f5cf</td>\n",
       "      <td>2019-10-01</td>\n",
       "      <td>04:28:07</td>\n",
       "    </tr>\n",
       "    <tr>\n",
       "      <th>61923</th>\n",
       "      <td>purchase</td>\n",
       "      <td>1004872</td>\n",
       "      <td>2053013555631882655</td>\n",
       "      <td>electronics.smartphone</td>\n",
       "      <td>samsung</td>\n",
       "      <td>286.35</td>\n",
       "      <td>518674655</td>\n",
       "      <td>a7077991-833d-484c-a081-395620df9c5b</td>\n",
       "      <td>2019-10-01</td>\n",
       "      <td>04:28:22</td>\n",
       "    </tr>\n",
       "    <tr>\n",
       "      <th>61958</th>\n",
       "      <td>purchase</td>\n",
       "      <td>1004856</td>\n",
       "      <td>2053013555631882655</td>\n",
       "      <td>electronics.smartphone</td>\n",
       "      <td>samsung</td>\n",
       "      <td>130.76</td>\n",
       "      <td>522114084</td>\n",
       "      <td>f28ecda4-c118-4c51-9f7f-2b1b84b11975</td>\n",
       "      <td>2019-10-01</td>\n",
       "      <td>04:28:25</td>\n",
       "    </tr>\n",
       "    <tr>\n",
       "      <th>61961</th>\n",
       "      <td>purchase</td>\n",
       "      <td>5100337</td>\n",
       "      <td>2053013553341792533</td>\n",
       "      <td>electronics.clocks</td>\n",
       "      <td>apple</td>\n",
       "      <td>311.84</td>\n",
       "      <td>516278990</td>\n",
       "      <td>acefd607-1a24-496c-a4b8-7e9097a71ddf</td>\n",
       "      <td>2019-10-01</td>\n",
       "      <td>04:28:25</td>\n",
       "    </tr>\n",
       "    <tr>\n",
       "      <th>61978</th>\n",
       "      <td>purchase</td>\n",
       "      <td>1004904</td>\n",
       "      <td>2053013555631882655</td>\n",
       "      <td>electronics.smartphone</td>\n",
       "      <td>huawei</td>\n",
       "      <td>110.34</td>\n",
       "      <td>536561197</td>\n",
       "      <td>65ca1cea-cf63-4533-9981-78c06fc5b45d</td>\n",
       "      <td>2019-10-01</td>\n",
       "      <td>04:28:26</td>\n",
       "    </tr>\n",
       "  </tbody>\n",
       "</table>\n",
       "<p>1216 rows × 10 columns</p>\n",
       "</div>"
      ],
      "text/plain": [
       "      event_type  product_id          category_id  \\\n",
       "111     purchase     1004856  2053013555631882655   \n",
       "197     purchase     1002532  2053013555631882655   \n",
       "268     purchase    13800054  2053013557418656265   \n",
       "339     purchase     4804055  2053013554658804075   \n",
       "352     purchase     4804056  2053013554658804075   \n",
       "...          ...         ...                  ...   \n",
       "61800   purchase     1004767  2053013555631882655   \n",
       "61923   purchase     1004872  2053013555631882655   \n",
       "61958   purchase     1004856  2053013555631882655   \n",
       "61961   purchase     5100337  2053013553341792533   \n",
       "61978   purchase     1004904  2053013555631882655   \n",
       "\n",
       "                     category_code    brand   price    user_id  \\\n",
       "111         electronics.smartphone  samsung  130.76  543272936   \n",
       "197         electronics.smartphone    apple  642.69  551377651   \n",
       "268      furniture.bathroom.toilet  santeri   54.42  555332717   \n",
       "339    electronics.audio.headphone    apple  189.91  524601178   \n",
       "352    electronics.audio.headphone    apple  161.98  551377651   \n",
       "...                            ...      ...     ...        ...   \n",
       "61800       electronics.smartphone  samsung  254.76  552268757   \n",
       "61923       electronics.smartphone  samsung  286.35  518674655   \n",
       "61958       electronics.smartphone  samsung  130.76  522114084   \n",
       "61961           electronics.clocks    apple  311.84  516278990   \n",
       "61978       electronics.smartphone   huawei  110.34  536561197   \n",
       "\n",
       "                               user_session        date      time  \n",
       "111    8187d148-3c41-46d4-b0c0-9c08cd9dc564  2019-10-01  00:02:14  \n",
       "197    3c80f0d6-e9ec-4181-8c5c-837a30be2d68  2019-10-01  00:04:37  \n",
       "268    1dea3ee2-2ded-42e8-8e7a-4e2ad6ae942f  2019-10-01  00:07:07  \n",
       "339    2af9b570-0942-4dcd-8f25-4d84fba82553  2019-10-01  00:09:26  \n",
       "352    3c80f0d6-e9ec-4181-8c5c-837a30be2d68  2019-10-01  00:09:54  \n",
       "...                                     ...         ...       ...  \n",
       "61800  2c8a1bd9-f49e-4300-b1bd-7f1636f7f5cf  2019-10-01  04:28:07  \n",
       "61923  a7077991-833d-484c-a081-395620df9c5b  2019-10-01  04:28:22  \n",
       "61958  f28ecda4-c118-4c51-9f7f-2b1b84b11975  2019-10-01  04:28:25  \n",
       "61961  acefd607-1a24-496c-a4b8-7e9097a71ddf  2019-10-01  04:28:25  \n",
       "61978  65ca1cea-cf63-4533-9981-78c06fc5b45d  2019-10-01  04:28:26  \n",
       "\n",
       "[1216 rows x 10 columns]"
      ]
     },
     "execution_count": 8,
     "metadata": {},
     "output_type": "execute_result"
    }
   ],
   "source": [
    "purchase_subset"
   ]
  },
  {
   "cell_type": "code",
   "execution_count": 9,
   "metadata": {},
   "outputs": [],
   "source": [
    "# line graph for sales\n",
    "sales_data = purchase_subset.drop(['date'],axis=1)\n",
    "# start_date = '06-09-2005'\n",
    "# end_date = pd.to_datetime('today')  # Use today's date as the end date\n",
    "# date_range = pd.date_range(start=start_date, end=end_date)\n",
    "# sales_data['date'] = date_range[:len(sales_data)]\n",
    "# sales_data = purchase_subset[['brand','date','price']]\n",
    "# # sales_data\n",
    "\n",
    "\n",
    "sales_data = sales_data.groupby('brand')['price'].sum()\n",
    "sales_data = pd.DataFrame({'brand':sales_data.index, 'sales':sales_data.values}) \n",
    "start_date = '06-09-2022'\n",
    "end_date = pd.to_datetime('today')  # Use today's date as the end date\n",
    "date_range = pd.date_range(start=start_date, end=end_date)\n",
    "sales_data['date'] = date_range[:len(sales_data)]\n",
    "sales_data\n",
    "# sales_data = purchase_subset[['brand','date','price']]\n",
    "fig_sales = px.line(sales_data, x=\"date\", y=\"sales\")"
   ]
  }
 ],
 "metadata": {
  "kernelspec": {
   "display_name": "TestEnv",
   "language": "python",
   "name": "python3"
  },
  "language_info": {
   "codemirror_mode": {
    "name": "ipython",
    "version": 3
   },
   "file_extension": ".py",
   "mimetype": "text/x-python",
   "name": "python",
   "nbconvert_exporter": "python",
   "pygments_lexer": "ipython3",
   "version": "3.11.3"
  },
  "orig_nbformat": 4
 },
 "nbformat": 4,
 "nbformat_minor": 2
}
